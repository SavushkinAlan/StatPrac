{
 "cells": [
  {
   "cell_type": "code",
   "execution_count": 2,
   "metadata": {},
   "outputs": [],
   "source": [
    "import pandas as pd\n",
    "import numpy as np\n",
    "import scipy\n",
    "import seaborn as sns\n",
    "import matplotlib.pyplot as plt\n",
    "sns.set()"
   ]
  },
  {
   "cell_type": "markdown",
   "metadata": {},
   "source": [
    "### Ex. 1\n",
    "\n",
    "Считая нормальным распределение вектора цены и числа страниц, смоделировать бцтстрэп-выборки коэффициэнтов корреляции между ценой на амазоне и числом страниц. Использовать Pivotal и Percentile бутстрэп для построения доверительного интервала. Можно ли утверждать, что зависимость есть?  "
   ]
  },
  {
   "cell_type": "code",
   "execution_count": 3,
   "metadata": {},
   "outputs": [],
   "source": [
    "def bootsrtap_samples(data, n):\n",
    "    inds = np.random.choice(np.arange(len(data)), size=(n, len(data)))\n",
    "    return data[inds]"
   ]
  },
  {
   "cell_type": "code",
   "execution_count": 4,
   "metadata": {},
   "outputs": [
    {
     "data": {
      "image/png": "[encoded data removed]",
      "text/plain": [
       "<Figure size 432x288 with 1 Axes>"
      ]
     },
     "metadata": {
      "needs_background": "light"
     },
     "output_type": "display_data"
    }
   ],
   "source": [
    "df = pd.read_csv('amazon-books.txt', sep='\\t')\n",
    "cols = ['Amazon Price', 'NumPages']\n",
    "df.dropna(subset=cols, inplace=True)\n",
    "\n",
    "_ = sns.scatterplot(cols[0], cols[1], data=df)"
   ]
  },
  {
   "cell_type": "code",
   "execution_count": 5,
   "metadata": {},
   "outputs": [
    {
     "data": {
      "text/html": [
       "<div>\n",
       "<style scoped>\n",
       "    .dataframe tbody tr th:only-of-type {\n",
       "        vertical-align: middle;\n",
       "    }\n",
       "\n",
       "    .dataframe tbody tr th {\n",
       "        vertical-align: top;\n",
       "    }\n",
       "\n",
       "    .dataframe thead th {\n",
       "        text-align: right;\n",
       "    }\n",
       "</style>\n",
       "<table border=\"1\" class=\"dataframe\">\n",
       "  <thead>\n",
       "    <tr style=\"text-align: right;\">\n",
       "      <th></th>\n",
       "      <th>Amazon Price</th>\n",
       "      <th>NumPages</th>\n",
       "    </tr>\n",
       "  </thead>\n",
       "  <tbody>\n",
       "    <tr>\n",
       "      <th>Amazon Price</th>\n",
       "      <td>1.000000</td>\n",
       "      <td>0.129688</td>\n",
       "    </tr>\n",
       "    <tr>\n",
       "      <th>NumPages</th>\n",
       "      <td>0.129688</td>\n",
       "      <td>1.000000</td>\n",
       "    </tr>\n",
       "  </tbody>\n",
       "</table>\n",
       "</div>"
      ],
      "text/plain": [
       "              Amazon Price  NumPages\n",
       "Amazon Price      1.000000  0.129688\n",
       "NumPages          0.129688  1.000000"
      ]
     },
     "execution_count": 5,
     "metadata": {},
     "output_type": "execute_result"
    }
   ],
   "source": [
    "df[cols].corr()"
   ]
  },
  {
   "cell_type": "code",
   "execution_count": 6,
   "metadata": {},
   "outputs": [],
   "source": [
    "theta = df[cols].corr().values[0,1]"
   ]
  },
  {
   "cell_type": "code",
   "execution_count": 7,
   "metadata": {},
   "outputs": [
    {
     "data": {
      "text/plain": [
       "(5000, 323, 2)"
      ]
     },
     "execution_count": 7,
     "metadata": {},
     "output_type": "execute_result"
    }
   ],
   "source": [
    "b_data = bootsrtap_samples(df[cols].values, n=5000)\n",
    "b_data.shape"
   ]
  },
  {
   "cell_type": "code",
   "execution_count": 8,
   "metadata": {},
   "outputs": [],
   "source": [
    "std_prod = b_data.std(axis=1).prod(axis=-1)\n",
    "cov = (b_data - b_data.mean(axis=1).reshape(-1, 1, 2)).prod(axis=-1).mean(axis=-1)\n",
    "b_theta = cov / std_prod\n",
    "b_theta.sort()"
   ]
  },
  {
   "cell_type": "markdown",
   "metadata": {},
   "source": [
    "##### Percentile method"
   ]
  },
  {
   "cell_type": "code",
   "execution_count": 9,
   "metadata": {},
   "outputs": [
    {
     "data": {
      "image/png": "[encoded data removed]",
      "text/plain": [
       "<Figure size 432x288 with 1 Axes>"
      ]
     },
     "metadata": {
      "needs_background": "light"
     },
     "output_type": "display_data"
    }
   ],
   "source": [
    "_ = plt.hist(b_theta - theta)"
   ]
  },
  {
   "cell_type": "markdown",
   "metadata": {},
   "source": [
    "По графику видно, что гистограмма разброса смещения симметрична и сосредоточена в нуле, следовательно мы можем использовать данный метод для построения доверительного интервала"
   ]
  },
  {
   "cell_type": "code",
   "execution_count": 10,
   "metadata": {},
   "outputs": [],
   "source": [
    "alpha = 0.01\n",
    "gamma = 0.005\n",
    "beta = 1 - alpha + gamma\n",
    "t1, t2 = b_theta[round(gamma * len(b_theta))], b_theta[round(beta * len(b_theta))]"
   ]
  },
  {
   "cell_type": "code",
   "execution_count": 11,
   "metadata": {},
   "outputs": [
    {
     "name": "stdout",
     "output_type": "stream",
     "text": [
      "Confidence interval: (-0.0378, 0.3244)\n"
     ]
    }
   ],
   "source": [
    "print(f'Confidence interval: ({t1:.4f}, {t2:.4f})')"
   ]
  },
  {
   "cell_type": "markdown",
   "metadata": {},
   "source": [
    "Поскольку при нашем уровне значимости 0 попадает в наш доверительный интервал, то мы не можем утверждать, что есть зависимость между ценой и количеством страниц"
   ]
  },
  {
   "cell_type": "markdown",
   "metadata": {},
   "source": [
    "##### Pivotal method"
   ]
  },
  {
   "cell_type": "code",
   "execution_count": 12,
   "metadata": {},
   "outputs": [
    {
     "name": "stdout",
     "output_type": "stream",
     "text": [
      "Confidence interval: (-0.0651, 0.2971)\n"
     ]
    }
   ],
   "source": [
    "alpha = 0.01\n",
    "gamma = 0.005\n",
    "beta = 1 - alpha + gamma\n",
    "delta = b_theta - theta\n",
    "t1, t2 = theta - delta[round(beta * len(delta))], theta - delta[round(gamma * len(delta))]\n",
    "print(f'Confidence interval: ({t1:.4f}, {t2:.4f})')"
   ]
  },
  {
   "cell_type": "markdown",
   "metadata": {},
   "source": [
    "Поскольку при нашем уровне значимости 0 попадает в наш доверительный интервал, то мы не можем утверждать, что есть зависимость между ценой и количеством страниц"
   ]
  },
  {
   "cell_type": "markdown",
   "metadata": {},
   "source": [
    "### Ex. 2\n",
    "\n",
    "Для доли мальчиков из файла babysamp-98.txt:\n",
    "\n",
    "    1) Построить асимптотический доверительный интервал \n",
    "    2) Построить точный доверительный интервал, используя биномиальное распределение"
   ]
  },
  {
   "cell_type": "code",
   "execution_count": 13,
   "metadata": {},
   "outputs": [],
   "source": [
    "df = pd.read_csv('babysamp-98.txt', sep='\\t')\n",
    "df.sex = df.sex.apply(lambda x: 1 if x == 'M' else 0)"
   ]
  },
  {
   "cell_type": "code",
   "execution_count": 14,
   "metadata": {},
   "outputs": [
    {
     "name": "stdout",
     "output_type": "stream",
     "text": [
      "Asymptotic confidence interval: ( 0.4457,  0.5843)\n"
     ]
    }
   ],
   "source": [
    "alpha = 0.05\n",
    "p = df.sex.mean()\n",
    "se = (p * (1-p) / len(df))**0.5\n",
    "z = scipy.stats.norm(0, 1)\n",
    "print(f'Asymptotic confidence interval: ({p - z.ppf(1 - alpha/2) * se: .4f}, {p + z.ppf(1 - alpha/2) * se: .4f})')"
   ]
  },
  {
   "cell_type": "code",
   "execution_count": 15,
   "metadata": {},
   "outputs": [
    {
     "name": "stdout",
     "output_type": "stream",
     "text": [
      "Confidence interval: (0.4435, 0.5861)\n"
     ]
    }
   ],
   "source": [
    "n = len(df)\n",
    "k = df.sex.sum()\n",
    "p1 = k / (k + (n - k + 1) * scipy.stats.f.ppf(1 - alpha/2, 2 * (n - k + 1), 2 * k))\n",
    "p2 = (k + 1) / (k + 1 + (n - k) * scipy.stats.f.ppf(alpha / 2, 2 * (n - k), 2 * (k + 1)))\n",
    "print(f'Confidence interval: ({p1:.4f}, {p2:.4f})')"
   ]
  },
  {
   "cell_type": "markdown",
   "metadata": {},
   "source": [
    "### Ex. 3\n",
    "\n",
    "Предполагая нормальность распределения пробега построить доверительный интервал для среднего пробега\n",
    "\n",
    "    a) Точный на основе распределния Стьюдента\n",
    "    б) Асимптотический на основе нормального распределния\n",
    "    в) Бутстрэпом, испольщуя метод Normal"
   ]
  },
  {
   "cell_type": "code",
   "execution_count": 16,
   "metadata": {},
   "outputs": [
    {
     "data": {
      "image/png": "[encoded data removed]",
      "text/plain": [
       "<Figure size 432x288 with 1 Axes>"
      ]
     },
     "metadata": {
      "needs_background": "light"
     },
     "output_type": "display_data"
    }
   ],
   "source": [
    "df = pd.read_csv('nissan.txt')\n",
    "_ = df.mpg.hist()"
   ]
  },
  {
   "cell_type": "markdown",
   "metadata": {},
   "source": [
    "##### Точный доверительный интервал"
   ]
  },
  {
   "cell_type": "code",
   "execution_count": 17,
   "metadata": {},
   "outputs": [
    {
     "name": "stdout",
     "output_type": "stream",
     "text": [
      "Confidence interval: (21.9264, 22.8976)\n"
     ]
    }
   ],
   "source": [
    "alpha = 0.05\n",
    "mu, s, n = df.mpg.mean(), df.mpg.std() , len(df)\n",
    "t = scipy.stats.t(n - 1)\n",
    "print(f'Confidence interval: ({mu - t.ppf(1-alpha/2)*s/n**0.5:.4f}, {mu + t.ppf(1-alpha/2)*s/n**0.5:.4f})')"
   ]
  },
  {
   "cell_type": "markdown",
   "metadata": {},
   "source": [
    "##### Асимптотический доверительный интервал"
   ]
  },
  {
   "cell_type": "code",
   "execution_count": 18,
   "metadata": {},
   "outputs": [
    {
     "name": "stdout",
     "output_type": "stream",
     "text": [
      "Confidence interval: (21.9324, 22.8916)\n"
     ]
    }
   ],
   "source": [
    "alpha = 0.05\n",
    "mu, s, n = df.mpg.mean(), df.mpg.std() , len(df)\n",
    "z = scipy.stats.norm()\n",
    "print(f'Confidence interval: ({mu - z.ppf(1-alpha/2)*s/n**0.5:.4f}, {mu + z.ppf(1-alpha/2)*s/n**0.5:.4f})')"
   ]
  },
  {
   "cell_type": "markdown",
   "metadata": {},
   "source": [
    "##### Бутстрэп"
   ]
  },
  {
   "cell_type": "code",
   "execution_count": 19,
   "metadata": {},
   "outputs": [
    {
     "data": {
      "text/plain": [
       "(3000,)"
      ]
     },
     "execution_count": 19,
     "metadata": {},
     "output_type": "execute_result"
    }
   ],
   "source": [
    "b_mu = bootsrtap_samples(df.mpg.values, 3000).mean(axis=1)\n",
    "b_mu.shape"
   ]
  },
  {
   "cell_type": "code",
   "execution_count": 20,
   "metadata": {},
   "outputs": [
    {
     "name": "stdout",
     "output_type": "stream",
     "text": [
      "Confidence interval: (21.9415, 22.8825)\n"
     ]
    }
   ],
   "source": [
    "bs = b_mu.std()\n",
    "print(f'Confidence interval: ({mu - z.ppf(1-alpha/2)*bs:.4f}, {mu + z.ppf(1-alpha/2)*bs:.4f})')"
   ]
  },
  {
   "cell_type": "markdown",
   "metadata": {},
   "source": [
    "Как видно по результатам, точный доверительный интервал получился шире чем остальные, это связано с тем что распределение Стьюдента имеет более тяжелые хвосты по сравнению с нормальным распределнием. Это совпадает с нашей интуицией поскольку нам дана лишь оценка дисперсии, то следовательно у нас меньше информации об исходном распределении, следовательно и уверенности у нас тоже меньше.\n",
    "\n",
    "Также видим, что бутсрэп интервал получился уже чем остальные"
   ]
  },
  {
   "cell_type": "code",
   "execution_count": null,
   "metadata": {},
   "outputs": [],
   "source": []
  }
 ],
 "metadata": {
  "kernelspec": {
   "display_name": "Python 3",
   "language": "python",
   "name": "python3"
  },
  "language_info": {
   "codemirror_mode": {
    "name": "ipython",
    "version": 3
   },
   "file_extension": ".py",
   "mimetype": "text/x-python",
   "name": "python",
   "nbconvert_exporter": "python",
   "pygments_lexer": "ipython3",
   "version": "3.6.9"
  }
 },
 "nbformat": 4,
 "nbformat_minor": 2
}
